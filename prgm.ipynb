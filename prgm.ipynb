{
 "cells": [
  {
   "cell_type": "markdown",
   "metadata": {},
   "source": [
    "# CREDIT CARD FRAUD DETECTION"
   ]
  },
  {
   "cell_type": "code",
   "execution_count": 1,
   "metadata": {},
   "outputs": [],
   "source": [
    "import numpy as np\n",
    "import pandas as pd\n",
    "import matplotlib.pyplot as plt\n",
    "import seaborn as sns\n",
    "%matplotlib inline"
   ]
  },
  {
   "cell_type": "code",
   "execution_count": 2,
   "metadata": {},
   "outputs": [
    {
     "name": "stderr",
     "output_type": "stream",
     "text": [
      "C:\\Users\\91938\\anaconda3\\lib\\site-packages\\tensorflow\\python\\framework\\dtypes.py:516: FutureWarning: Passing (type, 1) or '1type' as a synonym of type is deprecated; in a future version of numpy, it will be understood as (type, (1,)) / '(1,)type'.\n",
      "  _np_qint8 = np.dtype([(\"qint8\", np.int8, 1)])\n",
      "C:\\Users\\91938\\anaconda3\\lib\\site-packages\\tensorflow\\python\\framework\\dtypes.py:517: FutureWarning: Passing (type, 1) or '1type' as a synonym of type is deprecated; in a future version of numpy, it will be understood as (type, (1,)) / '(1,)type'.\n",
      "  _np_quint8 = np.dtype([(\"quint8\", np.uint8, 1)])\n",
      "C:\\Users\\91938\\anaconda3\\lib\\site-packages\\tensorflow\\python\\framework\\dtypes.py:518: FutureWarning: Passing (type, 1) or '1type' as a synonym of type is deprecated; in a future version of numpy, it will be understood as (type, (1,)) / '(1,)type'.\n",
      "  _np_qint16 = np.dtype([(\"qint16\", np.int16, 1)])\n",
      "C:\\Users\\91938\\anaconda3\\lib\\site-packages\\tensorflow\\python\\framework\\dtypes.py:519: FutureWarning: Passing (type, 1) or '1type' as a synonym of type is deprecated; in a future version of numpy, it will be understood as (type, (1,)) / '(1,)type'.\n",
      "  _np_quint16 = np.dtype([(\"quint16\", np.uint16, 1)])\n",
      "C:\\Users\\91938\\anaconda3\\lib\\site-packages\\tensorflow\\python\\framework\\dtypes.py:520: FutureWarning: Passing (type, 1) or '1type' as a synonym of type is deprecated; in a future version of numpy, it will be understood as (type, (1,)) / '(1,)type'.\n",
      "  _np_qint32 = np.dtype([(\"qint32\", np.int32, 1)])\n",
      "C:\\Users\\91938\\anaconda3\\lib\\site-packages\\tensorflow\\python\\framework\\dtypes.py:525: FutureWarning: Passing (type, 1) or '1type' as a synonym of type is deprecated; in a future version of numpy, it will be understood as (type, (1,)) / '(1,)type'.\n",
      "  np_resource = np.dtype([(\"resource\", np.ubyte, 1)])\n",
      "C:\\Users\\91938\\anaconda3\\lib\\site-packages\\tensorboard\\compat\\tensorflow_stub\\dtypes.py:541: FutureWarning: Passing (type, 1) or '1type' as a synonym of type is deprecated; in a future version of numpy, it will be understood as (type, (1,)) / '(1,)type'.\n",
      "  _np_qint8 = np.dtype([(\"qint8\", np.int8, 1)])\n",
      "C:\\Users\\91938\\anaconda3\\lib\\site-packages\\tensorboard\\compat\\tensorflow_stub\\dtypes.py:542: FutureWarning: Passing (type, 1) or '1type' as a synonym of type is deprecated; in a future version of numpy, it will be understood as (type, (1,)) / '(1,)type'.\n",
      "  _np_quint8 = np.dtype([(\"quint8\", np.uint8, 1)])\n",
      "C:\\Users\\91938\\anaconda3\\lib\\site-packages\\tensorboard\\compat\\tensorflow_stub\\dtypes.py:543: FutureWarning: Passing (type, 1) or '1type' as a synonym of type is deprecated; in a future version of numpy, it will be understood as (type, (1,)) / '(1,)type'.\n",
      "  _np_qint16 = np.dtype([(\"qint16\", np.int16, 1)])\n",
      "C:\\Users\\91938\\anaconda3\\lib\\site-packages\\tensorboard\\compat\\tensorflow_stub\\dtypes.py:544: FutureWarning: Passing (type, 1) or '1type' as a synonym of type is deprecated; in a future version of numpy, it will be understood as (type, (1,)) / '(1,)type'.\n",
      "  _np_quint16 = np.dtype([(\"quint16\", np.uint16, 1)])\n",
      "C:\\Users\\91938\\anaconda3\\lib\\site-packages\\tensorboard\\compat\\tensorflow_stub\\dtypes.py:545: FutureWarning: Passing (type, 1) or '1type' as a synonym of type is deprecated; in a future version of numpy, it will be understood as (type, (1,)) / '(1,)type'.\n",
      "  _np_qint32 = np.dtype([(\"qint32\", np.int32, 1)])\n",
      "C:\\Users\\91938\\anaconda3\\lib\\site-packages\\tensorboard\\compat\\tensorflow_stub\\dtypes.py:550: FutureWarning: Passing (type, 1) or '1type' as a synonym of type is deprecated; in a future version of numpy, it will be understood as (type, (1,)) / '(1,)type'.\n",
      "  np_resource = np.dtype([(\"resource\", np.ubyte, 1)])\n"
     ]
    }
   ],
   "source": [
    "import tensorflow as tf\n",
    "from tensorflow.keras import Sequential\n",
    "from tensorflow.keras.layers import BatchNormalization,Dropout,Dense,Conv1D\n",
    "from tensorflow.keras.optimizers import Adam"
   ]
  },
  {
   "cell_type": "code",
   "execution_count": 3,
   "metadata": {},
   "outputs": [],
   "source": [
    "from sklearn.model_selection import train_test_split\n",
    "from sklearn.preprocessing import StandardScaler"
   ]
  },
  {
   "cell_type": "code",
   "execution_count": 4,
   "metadata": {},
   "outputs": [],
   "source": [
    "df=pd.read_csv('creditcard.csv')"
   ]
  },
  {
   "cell_type": "code",
   "execution_count": 5,
   "metadata": {},
   "outputs": [
    {
     "data": {
      "text/html": [
       "<div>\n",
       "<style scoped>\n",
       "    .dataframe tbody tr th:only-of-type {\n",
       "        vertical-align: middle;\n",
       "    }\n",
       "\n",
       "    .dataframe tbody tr th {\n",
       "        vertical-align: top;\n",
       "    }\n",
       "\n",
       "    .dataframe thead th {\n",
       "        text-align: right;\n",
       "    }\n",
       "</style>\n",
       "<table border=\"1\" class=\"dataframe\">\n",
       "  <thead>\n",
       "    <tr style=\"text-align: right;\">\n",
       "      <th></th>\n",
       "      <th>Time</th>\n",
       "      <th>V1</th>\n",
       "      <th>V2</th>\n",
       "      <th>V3</th>\n",
       "      <th>V4</th>\n",
       "      <th>V5</th>\n",
       "      <th>V6</th>\n",
       "      <th>V7</th>\n",
       "      <th>V8</th>\n",
       "      <th>V9</th>\n",
       "      <th>...</th>\n",
       "      <th>V21</th>\n",
       "      <th>V22</th>\n",
       "      <th>V23</th>\n",
       "      <th>V24</th>\n",
       "      <th>V25</th>\n",
       "      <th>V26</th>\n",
       "      <th>V27</th>\n",
       "      <th>V28</th>\n",
       "      <th>Amount</th>\n",
       "      <th>Class</th>\n",
       "    </tr>\n",
       "  </thead>\n",
       "  <tbody>\n",
       "    <tr>\n",
       "      <th>0</th>\n",
       "      <td>0.0</td>\n",
       "      <td>-1.359807</td>\n",
       "      <td>-0.072781</td>\n",
       "      <td>2.536347</td>\n",
       "      <td>1.378155</td>\n",
       "      <td>-0.338321</td>\n",
       "      <td>0.462388</td>\n",
       "      <td>0.239599</td>\n",
       "      <td>0.098698</td>\n",
       "      <td>0.363787</td>\n",
       "      <td>...</td>\n",
       "      <td>-0.018307</td>\n",
       "      <td>0.277838</td>\n",
       "      <td>-0.110474</td>\n",
       "      <td>0.066928</td>\n",
       "      <td>0.128539</td>\n",
       "      <td>-0.189115</td>\n",
       "      <td>0.133558</td>\n",
       "      <td>-0.021053</td>\n",
       "      <td>149.62</td>\n",
       "      <td>0</td>\n",
       "    </tr>\n",
       "    <tr>\n",
       "      <th>1</th>\n",
       "      <td>0.0</td>\n",
       "      <td>1.191857</td>\n",
       "      <td>0.266151</td>\n",
       "      <td>0.166480</td>\n",
       "      <td>0.448154</td>\n",
       "      <td>0.060018</td>\n",
       "      <td>-0.082361</td>\n",
       "      <td>-0.078803</td>\n",
       "      <td>0.085102</td>\n",
       "      <td>-0.255425</td>\n",
       "      <td>...</td>\n",
       "      <td>-0.225775</td>\n",
       "      <td>-0.638672</td>\n",
       "      <td>0.101288</td>\n",
       "      <td>-0.339846</td>\n",
       "      <td>0.167170</td>\n",
       "      <td>0.125895</td>\n",
       "      <td>-0.008983</td>\n",
       "      <td>0.014724</td>\n",
       "      <td>2.69</td>\n",
       "      <td>0</td>\n",
       "    </tr>\n",
       "    <tr>\n",
       "      <th>2</th>\n",
       "      <td>1.0</td>\n",
       "      <td>-1.358354</td>\n",
       "      <td>-1.340163</td>\n",
       "      <td>1.773209</td>\n",
       "      <td>0.379780</td>\n",
       "      <td>-0.503198</td>\n",
       "      <td>1.800499</td>\n",
       "      <td>0.791461</td>\n",
       "      <td>0.247676</td>\n",
       "      <td>-1.514654</td>\n",
       "      <td>...</td>\n",
       "      <td>0.247998</td>\n",
       "      <td>0.771679</td>\n",
       "      <td>0.909412</td>\n",
       "      <td>-0.689281</td>\n",
       "      <td>-0.327642</td>\n",
       "      <td>-0.139097</td>\n",
       "      <td>-0.055353</td>\n",
       "      <td>-0.059752</td>\n",
       "      <td>378.66</td>\n",
       "      <td>0</td>\n",
       "    </tr>\n",
       "    <tr>\n",
       "      <th>3</th>\n",
       "      <td>1.0</td>\n",
       "      <td>-0.966272</td>\n",
       "      <td>-0.185226</td>\n",
       "      <td>1.792993</td>\n",
       "      <td>-0.863291</td>\n",
       "      <td>-0.010309</td>\n",
       "      <td>1.247203</td>\n",
       "      <td>0.237609</td>\n",
       "      <td>0.377436</td>\n",
       "      <td>-1.387024</td>\n",
       "      <td>...</td>\n",
       "      <td>-0.108300</td>\n",
       "      <td>0.005274</td>\n",
       "      <td>-0.190321</td>\n",
       "      <td>-1.175575</td>\n",
       "      <td>0.647376</td>\n",
       "      <td>-0.221929</td>\n",
       "      <td>0.062723</td>\n",
       "      <td>0.061458</td>\n",
       "      <td>123.50</td>\n",
       "      <td>0</td>\n",
       "    </tr>\n",
       "    <tr>\n",
       "      <th>4</th>\n",
       "      <td>2.0</td>\n",
       "      <td>-1.158233</td>\n",
       "      <td>0.877737</td>\n",
       "      <td>1.548718</td>\n",
       "      <td>0.403034</td>\n",
       "      <td>-0.407193</td>\n",
       "      <td>0.095921</td>\n",
       "      <td>0.592941</td>\n",
       "      <td>-0.270533</td>\n",
       "      <td>0.817739</td>\n",
       "      <td>...</td>\n",
       "      <td>-0.009431</td>\n",
       "      <td>0.798278</td>\n",
       "      <td>-0.137458</td>\n",
       "      <td>0.141267</td>\n",
       "      <td>-0.206010</td>\n",
       "      <td>0.502292</td>\n",
       "      <td>0.219422</td>\n",
       "      <td>0.215153</td>\n",
       "      <td>69.99</td>\n",
       "      <td>0</td>\n",
       "    </tr>\n",
       "  </tbody>\n",
       "</table>\n",
       "<p>5 rows × 31 columns</p>\n",
       "</div>"
      ],
      "text/plain": [
       "   Time        V1        V2        V3        V4        V5        V6        V7  \\\n",
       "0   0.0 -1.359807 -0.072781  2.536347  1.378155 -0.338321  0.462388  0.239599   \n",
       "1   0.0  1.191857  0.266151  0.166480  0.448154  0.060018 -0.082361 -0.078803   \n",
       "2   1.0 -1.358354 -1.340163  1.773209  0.379780 -0.503198  1.800499  0.791461   \n",
       "3   1.0 -0.966272 -0.185226  1.792993 -0.863291 -0.010309  1.247203  0.237609   \n",
       "4   2.0 -1.158233  0.877737  1.548718  0.403034 -0.407193  0.095921  0.592941   \n",
       "\n",
       "         V8        V9  ...       V21       V22       V23       V24       V25  \\\n",
       "0  0.098698  0.363787  ... -0.018307  0.277838 -0.110474  0.066928  0.128539   \n",
       "1  0.085102 -0.255425  ... -0.225775 -0.638672  0.101288 -0.339846  0.167170   \n",
       "2  0.247676 -1.514654  ...  0.247998  0.771679  0.909412 -0.689281 -0.327642   \n",
       "3  0.377436 -1.387024  ... -0.108300  0.005274 -0.190321 -1.175575  0.647376   \n",
       "4 -0.270533  0.817739  ... -0.009431  0.798278 -0.137458  0.141267 -0.206010   \n",
       "\n",
       "        V26       V27       V28  Amount  Class  \n",
       "0 -0.189115  0.133558 -0.021053  149.62      0  \n",
       "1  0.125895 -0.008983  0.014724    2.69      0  \n",
       "2 -0.139097 -0.055353 -0.059752  378.66      0  \n",
       "3 -0.221929  0.062723  0.061458  123.50      0  \n",
       "4  0.502292  0.219422  0.215153   69.99      0  \n",
       "\n",
       "[5 rows x 31 columns]"
      ]
     },
     "execution_count": 5,
     "metadata": {},
     "output_type": "execute_result"
    }
   ],
   "source": [
    "df.head()"
   ]
  },
  {
   "cell_type": "code",
   "execution_count": 6,
   "metadata": {},
   "outputs": [
    {
     "name": "stdout",
     "output_type": "stream",
     "text": [
      "<class 'pandas.core.frame.DataFrame'>\n",
      "RangeIndex: 284807 entries, 0 to 284806\n",
      "Data columns (total 31 columns):\n",
      " #   Column  Non-Null Count   Dtype  \n",
      "---  ------  --------------   -----  \n",
      " 0   Time    284807 non-null  float64\n",
      " 1   V1      284807 non-null  float64\n",
      " 2   V2      284807 non-null  float64\n",
      " 3   V3      284807 non-null  float64\n",
      " 4   V4      284807 non-null  float64\n",
      " 5   V5      284807 non-null  float64\n",
      " 6   V6      284807 non-null  float64\n",
      " 7   V7      284807 non-null  float64\n",
      " 8   V8      284807 non-null  float64\n",
      " 9   V9      284807 non-null  float64\n",
      " 10  V10     284807 non-null  float64\n",
      " 11  V11     284807 non-null  float64\n",
      " 12  V12     284807 non-null  float64\n",
      " 13  V13     284807 non-null  float64\n",
      " 14  V14     284807 non-null  float64\n",
      " 15  V15     284807 non-null  float64\n",
      " 16  V16     284807 non-null  float64\n",
      " 17  V17     284807 non-null  float64\n",
      " 18  V18     284807 non-null  float64\n",
      " 19  V19     284807 non-null  float64\n",
      " 20  V20     284807 non-null  float64\n",
      " 21  V21     284807 non-null  float64\n",
      " 22  V22     284807 non-null  float64\n",
      " 23  V23     284807 non-null  float64\n",
      " 24  V24     284807 non-null  float64\n",
      " 25  V25     284807 non-null  float64\n",
      " 26  V26     284807 non-null  float64\n",
      " 27  V27     284807 non-null  float64\n",
      " 28  V28     284807 non-null  float64\n",
      " 29  Amount  284807 non-null  float64\n",
      " 30  Class   284807 non-null  int64  \n",
      "dtypes: float64(30), int64(1)\n",
      "memory usage: 67.4 MB\n"
     ]
    }
   ],
   "source": [
    "df.info()"
   ]
  },
  {
   "cell_type": "code",
   "execution_count": 7,
   "metadata": {},
   "outputs": [
    {
     "data": {
      "text/plain": [
       "Time      0\n",
       "V1        0\n",
       "V2        0\n",
       "V3        0\n",
       "V4        0\n",
       "V5        0\n",
       "V6        0\n",
       "V7        0\n",
       "V8        0\n",
       "V9        0\n",
       "V10       0\n",
       "V11       0\n",
       "V12       0\n",
       "V13       0\n",
       "V14       0\n",
       "V15       0\n",
       "V16       0\n",
       "V17       0\n",
       "V18       0\n",
       "V19       0\n",
       "V20       0\n",
       "V21       0\n",
       "V22       0\n",
       "V23       0\n",
       "V24       0\n",
       "V25       0\n",
       "V26       0\n",
       "V27       0\n",
       "V28       0\n",
       "Amount    0\n",
       "Class     0\n",
       "dtype: int64"
      ]
     },
     "execution_count": 7,
     "metadata": {},
     "output_type": "execute_result"
    }
   ],
   "source": [
    "df.isnull().sum()\n",
    "#Shoes that there are no null values....\n",
    "#Data is already cleaned"
   ]
  },
  {
   "cell_type": "markdown",
   "metadata": {},
   "source": [
    "#                                                         EDA"
   ]
  },
  {
   "cell_type": "code",
   "execution_count": 8,
   "metadata": {},
   "outputs": [
    {
     "data": {
      "text/plain": [
       "<matplotlib.axes._subplots.AxesSubplot at 0x1e6e7a585c8>"
      ]
     },
     "execution_count": 8,
     "metadata": {},
     "output_type": "execute_result"
    },
    {
     "data": {
      "image/png": "[encoded data removed]",
      "text/plain": [
       "<Figure size 432x288 with 1 Axes>"
      ]
     },
     "metadata": {
      "needs_background": "light"
     },
     "output_type": "display_data"
    }
   ],
   "source": [
    "sns.countplot(df['Class'])"
   ]
  },
  {
   "cell_type": "code",
   "execution_count": 9,
   "metadata": {},
   "outputs": [],
   "source": [
    "def fun(x):\n",
    "    if x<10:\n",
    "        return 0\n",
    "    else:\n",
    "        if x<50:\n",
    "            return 1\n",
    "        else:\n",
    "            return 2\n",
    "df['Amount']=df['Amount'].apply(fun)"
   ]
  },
  {
   "cell_type": "code",
   "execution_count": 10,
   "metadata": {},
   "outputs": [],
   "source": [
    "nf=df[df['Class']==0]"
   ]
  },
  {
   "cell_type": "code",
   "execution_count": 11,
   "metadata": {},
   "outputs": [],
   "source": [
    "f=df[df['Class']==1]"
   ]
  },
  {
   "cell_type": "code",
   "execution_count": 12,
   "metadata": {},
   "outputs": [
    {
     "data": {
      "text/plain": [
       "1    492\n",
       "Name: Class, dtype: int64"
      ]
     },
     "execution_count": 12,
     "metadata": {},
     "output_type": "execute_result"
    }
   ],
   "source": [
    "f['Class'].value_counts()"
   ]
  },
  {
   "cell_type": "code",
   "execution_count": 13,
   "metadata": {},
   "outputs": [],
   "source": [
    "nf=nf.sample(n=1000,random_state=101,replace=False)"
   ]
  },
  {
   "cell_type": "code",
   "execution_count": 14,
   "metadata": {},
   "outputs": [
    {
     "data": {
      "text/plain": [
       "0    1000\n",
       "Name: Class, dtype: int64"
      ]
     },
     "execution_count": 14,
     "metadata": {},
     "output_type": "execute_result"
    }
   ],
   "source": [
    "nf['Class'].value_counts()"
   ]
  },
  {
   "cell_type": "code",
   "execution_count": 15,
   "metadata": {},
   "outputs": [],
   "source": [
    "df=pd.concat([nf,f],ignore_index=True)"
   ]
  },
  {
   "cell_type": "code",
   "execution_count": 16,
   "metadata": {},
   "outputs": [
    {
     "data": {
      "text/plain": [
       "0    1000\n",
       "1     492\n",
       "Name: Class, dtype: int64"
      ]
     },
     "execution_count": 16,
     "metadata": {},
     "output_type": "execute_result"
    }
   ],
   "source": [
    "df['Class'].value_counts()"
   ]
  },
  {
   "cell_type": "code",
   "execution_count": 17,
   "metadata": {},
   "outputs": [
    {
     "data": {
      "text/plain": [
       "<matplotlib.axes._subplots.AxesSubplot at 0x1e6e8262cc8>"
      ]
     },
     "execution_count": 17,
     "metadata": {},
     "output_type": "execute_result"
    },
    {
     "data": {
      "image/png": "[encoded data removed]",
      "text/plain": [
       "<Figure size 432x288 with 1 Axes>"
      ]
     },
     "metadata": {
      "needs_background": "light"
     },
     "output_type": "display_data"
    }
   ],
   "source": [
    "sns.countplot(df['Class'])"
   ]
  },
  {
   "cell_type": "code",
   "execution_count": 18,
   "metadata": {},
   "outputs": [
    {
     "data": {
      "text/plain": [
       "<matplotlib.axes._subplots.AxesSubplot at 0x1e6e73e0908>"
      ]
     },
     "execution_count": 18,
     "metadata": {},
     "output_type": "execute_result"
    },
    {
     "data": {
      "image/png": "[encoded data removed]",
      "text/plain": [
       "<Figure size 432x288 with 1 Axes>"
      ]
     },
     "metadata": {
      "needs_background": "light"
     },
     "output_type": "display_data"
    }
   ],
   "source": [
    "sns.countplot(df['Amount'],hue=df['Class'])"
   ]
  },
  {
   "cell_type": "code",
   "execution_count": 19,
   "metadata": {},
   "outputs": [
    {
     "data": {
      "text/html": [
       "<div>\n",
       "<style scoped>\n",
       "    .dataframe tbody tr th:only-of-type {\n",
       "        vertical-align: middle;\n",
       "    }\n",
       "\n",
       "    .dataframe tbody tr th {\n",
       "        vertical-align: top;\n",
       "    }\n",
       "\n",
       "    .dataframe thead th {\n",
       "        text-align: right;\n",
       "    }\n",
       "</style>\n",
       "<table border=\"1\" class=\"dataframe\">\n",
       "  <thead>\n",
       "    <tr style=\"text-align: right;\">\n",
       "      <th></th>\n",
       "      <th>Time</th>\n",
       "      <th>V1</th>\n",
       "      <th>V2</th>\n",
       "      <th>V3</th>\n",
       "      <th>V4</th>\n",
       "      <th>V5</th>\n",
       "      <th>V6</th>\n",
       "      <th>V7</th>\n",
       "      <th>V8</th>\n",
       "      <th>V9</th>\n",
       "      <th>...</th>\n",
       "      <th>V21</th>\n",
       "      <th>V22</th>\n",
       "      <th>V23</th>\n",
       "      <th>V24</th>\n",
       "      <th>V25</th>\n",
       "      <th>V26</th>\n",
       "      <th>V27</th>\n",
       "      <th>V28</th>\n",
       "      <th>Amount</th>\n",
       "      <th>Class</th>\n",
       "    </tr>\n",
       "  </thead>\n",
       "  <tbody>\n",
       "    <tr>\n",
       "      <th>Time</th>\n",
       "      <td>1.000000</td>\n",
       "      <td>0.203486</td>\n",
       "      <td>-0.190770</td>\n",
       "      <td>0.072984</td>\n",
       "      <td>-0.179992</td>\n",
       "      <td>0.235896</td>\n",
       "      <td>0.058317</td>\n",
       "      <td>0.179761</td>\n",
       "      <td>-0.116218</td>\n",
       "      <td>0.123151</td>\n",
       "      <td>...</td>\n",
       "      <td>-0.049362</td>\n",
       "      <td>0.127913</td>\n",
       "      <td>0.068490</td>\n",
       "      <td>-0.023021</td>\n",
       "      <td>-0.211696</td>\n",
       "      <td>-0.066259</td>\n",
       "      <td>-0.113773</td>\n",
       "      <td>0.019408</td>\n",
       "      <td>0.019423</td>\n",
       "      <td>-0.106274</td>\n",
       "    </tr>\n",
       "    <tr>\n",
       "      <th>V1</th>\n",
       "      <td>0.203486</td>\n",
       "      <td>1.000000</td>\n",
       "      <td>-0.789518</td>\n",
       "      <td>0.853590</td>\n",
       "      <td>-0.606344</td>\n",
       "      <td>0.841252</td>\n",
       "      <td>0.288293</td>\n",
       "      <td>0.853083</td>\n",
       "      <td>-0.084364</td>\n",
       "      <td>0.643216</td>\n",
       "      <td>...</td>\n",
       "      <td>-0.002064</td>\n",
       "      <td>-0.039550</td>\n",
       "      <td>-0.028617</td>\n",
       "      <td>-0.038513</td>\n",
       "      <td>-0.061579</td>\n",
       "      <td>0.038841</td>\n",
       "      <td>0.181304</td>\n",
       "      <td>0.026250</td>\n",
       "      <td>-0.058458</td>\n",
       "      <td>-0.482735</td>\n",
       "    </tr>\n",
       "    <tr>\n",
       "      <th>V2</th>\n",
       "      <td>-0.190770</td>\n",
       "      <td>-0.789518</td>\n",
       "      <td>1.000000</td>\n",
       "      <td>-0.839127</td>\n",
       "      <td>0.675193</td>\n",
       "      <td>-0.748838</td>\n",
       "      <td>-0.298536</td>\n",
       "      <td>-0.834396</td>\n",
       "      <td>-0.011943</td>\n",
       "      <td>-0.685927</td>\n",
       "      <td>...</td>\n",
       "      <td>0.065876</td>\n",
       "      <td>-0.005832</td>\n",
       "      <td>0.136133</td>\n",
       "      <td>-0.011287</td>\n",
       "      <td>0.080387</td>\n",
       "      <td>-0.009674</td>\n",
       "      <td>-0.107909</td>\n",
       "      <td>-0.067213</td>\n",
       "      <td>-0.180997</td>\n",
       "      <td>0.533501</td>\n",
       "    </tr>\n",
       "    <tr>\n",
       "      <th>V3</th>\n",
       "      <td>0.072984</td>\n",
       "      <td>0.853590</td>\n",
       "      <td>-0.839127</td>\n",
       "      <td>1.000000</td>\n",
       "      <td>-0.754981</td>\n",
       "      <td>0.824617</td>\n",
       "      <td>0.417265</td>\n",
       "      <td>0.873435</td>\n",
       "      <td>-0.164872</td>\n",
       "      <td>0.737019</td>\n",
       "      <td>...</td>\n",
       "      <td>0.002207</td>\n",
       "      <td>-0.068161</td>\n",
       "      <td>-0.021928</td>\n",
       "      <td>0.017236</td>\n",
       "      <td>-0.066602</td>\n",
       "      <td>-0.002861</td>\n",
       "      <td>0.080839</td>\n",
       "      <td>0.045816</td>\n",
       "      <td>-0.002154</td>\n",
       "      <td>-0.616162</td>\n",
       "    </tr>\n",
       "    <tr>\n",
       "      <th>V4</th>\n",
       "      <td>-0.179992</td>\n",
       "      <td>-0.606344</td>\n",
       "      <td>0.675193</td>\n",
       "      <td>-0.754981</td>\n",
       "      <td>1.000000</td>\n",
       "      <td>-0.569918</td>\n",
       "      <td>-0.402270</td>\n",
       "      <td>-0.692964</td>\n",
       "      <td>0.102193</td>\n",
       "      <td>-0.730150</td>\n",
       "      <td>...</td>\n",
       "      <td>0.009099</td>\n",
       "      <td>0.115756</td>\n",
       "      <td>0.005759</td>\n",
       "      <td>-0.089138</td>\n",
       "      <td>-0.017944</td>\n",
       "      <td>0.084651</td>\n",
       "      <td>-0.006928</td>\n",
       "      <td>0.018289</td>\n",
       "      <td>-0.133146</td>\n",
       "      <td>0.730230</td>\n",
       "    </tr>\n",
       "    <tr>\n",
       "      <th>V5</th>\n",
       "      <td>0.235896</td>\n",
       "      <td>0.841252</td>\n",
       "      <td>-0.748838</td>\n",
       "      <td>0.824617</td>\n",
       "      <td>-0.569918</td>\n",
       "      <td>1.000000</td>\n",
       "      <td>0.273624</td>\n",
       "      <td>0.817139</td>\n",
       "      <td>-0.190806</td>\n",
       "      <td>0.623384</td>\n",
       "      <td>...</td>\n",
       "      <td>0.030769</td>\n",
       "      <td>-0.091325</td>\n",
       "      <td>-0.033046</td>\n",
       "      <td>-0.098197</td>\n",
       "      <td>-0.049212</td>\n",
       "      <td>0.042349</td>\n",
       "      <td>0.159695</td>\n",
       "      <td>0.059451</td>\n",
       "      <td>-0.171219</td>\n",
       "      <td>-0.411309</td>\n",
       "    </tr>\n",
       "    <tr>\n",
       "      <th>V6</th>\n",
       "      <td>0.058317</td>\n",
       "      <td>0.288293</td>\n",
       "      <td>-0.298536</td>\n",
       "      <td>0.417265</td>\n",
       "      <td>-0.402270</td>\n",
       "      <td>0.273624</td>\n",
       "      <td>1.000000</td>\n",
       "      <td>0.285652</td>\n",
       "      <td>-0.481754</td>\n",
       "      <td>0.353937</td>\n",
       "      <td>...</td>\n",
       "      <td>-0.019186</td>\n",
       "      <td>-0.022569</td>\n",
       "      <td>0.188502</td>\n",
       "      <td>0.040932</td>\n",
       "      <td>-0.084836</td>\n",
       "      <td>-0.050364</td>\n",
       "      <td>-0.128681</td>\n",
       "      <td>0.047663</td>\n",
       "      <td>0.122964</td>\n",
       "      <td>-0.415550</td>\n",
       "    </tr>\n",
       "    <tr>\n",
       "      <th>V7</th>\n",
       "      <td>0.179761</td>\n",
       "      <td>0.853083</td>\n",
       "      <td>-0.834396</td>\n",
       "      <td>0.873435</td>\n",
       "      <td>-0.692964</td>\n",
       "      <td>0.817139</td>\n",
       "      <td>0.285652</td>\n",
       "      <td>1.000000</td>\n",
       "      <td>0.070259</td>\n",
       "      <td>0.736133</td>\n",
       "      <td>...</td>\n",
       "      <td>0.013213</td>\n",
       "      <td>-0.113238</td>\n",
       "      <td>-0.109284</td>\n",
       "      <td>-0.008899</td>\n",
       "      <td>0.044247</td>\n",
       "      <td>0.015943</td>\n",
       "      <td>0.196622</td>\n",
       "      <td>0.126664</td>\n",
       "      <td>0.055125</td>\n",
       "      <td>-0.526343</td>\n",
       "    </tr>\n",
       "    <tr>\n",
       "      <th>V8</th>\n",
       "      <td>-0.116218</td>\n",
       "      <td>-0.084364</td>\n",
       "      <td>-0.011943</td>\n",
       "      <td>-0.164872</td>\n",
       "      <td>0.102193</td>\n",
       "      <td>-0.190806</td>\n",
       "      <td>-0.481754</td>\n",
       "      <td>0.070259</td>\n",
       "      <td>1.000000</td>\n",
       "      <td>-0.073863</td>\n",
       "      <td>...</td>\n",
       "      <td>-0.095600</td>\n",
       "      <td>0.030628</td>\n",
       "      <td>-0.362151</td>\n",
       "      <td>0.041589</td>\n",
       "      <td>0.207011</td>\n",
       "      <td>0.042834</td>\n",
       "      <td>0.260326</td>\n",
       "      <td>-0.025216</td>\n",
       "      <td>0.160742</td>\n",
       "      <td>0.068557</td>\n",
       "    </tr>\n",
       "    <tr>\n",
       "      <th>V9</th>\n",
       "      <td>0.123151</td>\n",
       "      <td>0.643216</td>\n",
       "      <td>-0.685927</td>\n",
       "      <td>0.737019</td>\n",
       "      <td>-0.730150</td>\n",
       "      <td>0.623384</td>\n",
       "      <td>0.353937</td>\n",
       "      <td>0.736133</td>\n",
       "      <td>-0.073863</td>\n",
       "      <td>1.000000</td>\n",
       "      <td>...</td>\n",
       "      <td>0.113613</td>\n",
       "      <td>-0.206940</td>\n",
       "      <td>-0.043797</td>\n",
       "      <td>0.048152</td>\n",
       "      <td>-0.004925</td>\n",
       "      <td>-0.076721</td>\n",
       "      <td>0.087306</td>\n",
       "      <td>0.134488</td>\n",
       "      <td>0.067136</td>\n",
       "      <td>-0.581288</td>\n",
       "    </tr>\n",
       "    <tr>\n",
       "      <th>V10</th>\n",
       "      <td>0.177126</td>\n",
       "      <td>0.740501</td>\n",
       "      <td>-0.775068</td>\n",
       "      <td>0.852605</td>\n",
       "      <td>-0.774400</td>\n",
       "      <td>0.737516</td>\n",
       "      <td>0.414081</td>\n",
       "      <td>0.861833</td>\n",
       "      <td>-0.056197</td>\n",
       "      <td>0.800991</td>\n",
       "      <td>...</td>\n",
       "      <td>0.047163</td>\n",
       "      <td>-0.197154</td>\n",
       "      <td>-0.046207</td>\n",
       "      <td>0.024061</td>\n",
       "      <td>0.030760</td>\n",
       "      <td>-0.027666</td>\n",
       "      <td>0.109912</td>\n",
       "      <td>0.113181</td>\n",
       "      <td>0.057757</td>\n",
       "      <td>-0.672073</td>\n",
       "    </tr>\n",
       "    <tr>\n",
       "      <th>V11</th>\n",
       "      <td>-0.253646</td>\n",
       "      <td>-0.541115</td>\n",
       "      <td>0.622181</td>\n",
       "      <td>-0.715441</td>\n",
       "      <td>0.770101</td>\n",
       "      <td>-0.531685</td>\n",
       "      <td>-0.471219</td>\n",
       "      <td>-0.648207</td>\n",
       "      <td>0.166313</td>\n",
       "      <td>-0.673718</td>\n",
       "      <td>...</td>\n",
       "      <td>0.160009</td>\n",
       "      <td>0.027263</td>\n",
       "      <td>-0.016707</td>\n",
       "      <td>-0.105168</td>\n",
       "      <td>0.011361</td>\n",
       "      <td>0.108918</td>\n",
       "      <td>0.174956</td>\n",
       "      <td>0.029499</td>\n",
       "      <td>-0.099443</td>\n",
       "      <td>0.717677</td>\n",
       "    </tr>\n",
       "    <tr>\n",
       "      <th>V12</th>\n",
       "      <td>0.219474</td>\n",
       "      <td>0.610084</td>\n",
       "      <td>-0.675718</td>\n",
       "      <td>0.768556</td>\n",
       "      <td>-0.816849</td>\n",
       "      <td>0.613343</td>\n",
       "      <td>0.484908</td>\n",
       "      <td>0.726331</td>\n",
       "      <td>-0.162849</td>\n",
       "      <td>0.743649</td>\n",
       "      <td>...</td>\n",
       "      <td>-0.103206</td>\n",
       "      <td>-0.097971</td>\n",
       "      <td>0.005053</td>\n",
       "      <td>0.046944</td>\n",
       "      <td>0.029951</td>\n",
       "      <td>-0.087185</td>\n",
       "      <td>-0.043012</td>\n",
       "      <td>-0.004312</td>\n",
       "      <td>0.077346</td>\n",
       "      <td>-0.725092</td>\n",
       "    </tr>\n",
       "    <tr>\n",
       "      <th>V13</th>\n",
       "      <td>-0.114552</td>\n",
       "      <td>-0.019940</td>\n",
       "      <td>0.001990</td>\n",
       "      <td>-0.043057</td>\n",
       "      <td>0.011001</td>\n",
       "      <td>-0.081770</td>\n",
       "      <td>-0.076757</td>\n",
       "      <td>-0.000788</td>\n",
       "      <td>0.223681</td>\n",
       "      <td>-0.012588</td>\n",
       "      <td>...</td>\n",
       "      <td>0.001535</td>\n",
       "      <td>0.004928</td>\n",
       "      <td>-0.080786</td>\n",
       "      <td>0.014256</td>\n",
       "      <td>0.008379</td>\n",
       "      <td>0.034444</td>\n",
       "      <td>0.027065</td>\n",
       "      <td>-0.048782</td>\n",
       "      <td>0.059418</td>\n",
       "      <td>-0.064727</td>\n",
       "    </tr>\n",
       "    <tr>\n",
       "      <th>V14</th>\n",
       "      <td>0.118951</td>\n",
       "      <td>0.480819</td>\n",
       "      <td>-0.587654</td>\n",
       "      <td>0.683339</td>\n",
       "      <td>-0.784473</td>\n",
       "      <td>0.458723</td>\n",
       "      <td>0.508409</td>\n",
       "      <td>0.573404</td>\n",
       "      <td>-0.183603</td>\n",
       "      <td>0.672460</td>\n",
       "      <td>...</td>\n",
       "      <td>-0.234596</td>\n",
       "      <td>0.044482</td>\n",
       "      <td>0.014486</td>\n",
       "      <td>0.131998</td>\n",
       "      <td>-0.055673</td>\n",
       "      <td>-0.121557</td>\n",
       "      <td>-0.195108</td>\n",
       "      <td>-0.101162</td>\n",
       "      <td>0.105331</td>\n",
       "      <td>-0.787870</td>\n",
       "    </tr>\n",
       "    <tr>\n",
       "      <th>V15</th>\n",
       "      <td>-0.180050</td>\n",
       "      <td>0.106239</td>\n",
       "      <td>-0.113226</td>\n",
       "      <td>0.116670</td>\n",
       "      <td>-0.084307</td>\n",
       "      <td>0.071649</td>\n",
       "      <td>-0.015002</td>\n",
       "      <td>0.148843</td>\n",
       "      <td>0.117931</td>\n",
       "      <td>0.081099</td>\n",
       "      <td>...</td>\n",
       "      <td>0.122918</td>\n",
       "      <td>-0.040069</td>\n",
       "      <td>-0.060247</td>\n",
       "      <td>0.046903</td>\n",
       "      <td>0.001954</td>\n",
       "      <td>0.062127</td>\n",
       "      <td>0.124816</td>\n",
       "      <td>0.059851</td>\n",
       "      <td>0.027429</td>\n",
       "      <td>-0.025029</td>\n",
       "    </tr>\n",
       "    <tr>\n",
       "      <th>V16</th>\n",
       "      <td>0.197484</td>\n",
       "      <td>0.637606</td>\n",
       "      <td>-0.639094</td>\n",
       "      <td>0.729517</td>\n",
       "      <td>-0.715178</td>\n",
       "      <td>0.678225</td>\n",
       "      <td>0.424035</td>\n",
       "      <td>0.751295</td>\n",
       "      <td>-0.172666</td>\n",
       "      <td>0.707835</td>\n",
       "      <td>...</td>\n",
       "      <td>-0.168810</td>\n",
       "      <td>-0.093715</td>\n",
       "      <td>-0.004318</td>\n",
       "      <td>-0.024627</td>\n",
       "      <td>0.054241</td>\n",
       "      <td>-0.045730</td>\n",
       "      <td>-0.045809</td>\n",
       "      <td>0.025589</td>\n",
       "      <td>-0.035340</td>\n",
       "      <td>-0.641519</td>\n",
       "    </tr>\n",
       "    <tr>\n",
       "      <th>V17</th>\n",
       "      <td>0.188094</td>\n",
       "      <td>0.682588</td>\n",
       "      <td>-0.654579</td>\n",
       "      <td>0.749835</td>\n",
       "      <td>-0.710776</td>\n",
       "      <td>0.738447</td>\n",
       "      <td>0.404829</td>\n",
       "      <td>0.777445</td>\n",
       "      <td>-0.217095</td>\n",
       "      <td>0.738999</td>\n",
       "      <td>...</td>\n",
       "      <td>-0.115519</td>\n",
       "      <td>-0.115060</td>\n",
       "      <td>0.013110</td>\n",
       "      <td>-0.042630</td>\n",
       "      <td>0.035672</td>\n",
       "      <td>-0.033297</td>\n",
       "      <td>-0.013676</td>\n",
       "      <td>0.022636</td>\n",
       "      <td>-0.035499</td>\n",
       "      <td>-0.614420</td>\n",
       "    </tr>\n",
       "    <tr>\n",
       "      <th>V18</th>\n",
       "      <td>0.219858</td>\n",
       "      <td>0.668089</td>\n",
       "      <td>-0.619110</td>\n",
       "      <td>0.697594</td>\n",
       "      <td>-0.638924</td>\n",
       "      <td>0.721713</td>\n",
       "      <td>0.350127</td>\n",
       "      <td>0.751736</td>\n",
       "      <td>-0.176820</td>\n",
       "      <td>0.681209</td>\n",
       "      <td>...</td>\n",
       "      <td>-0.101130</td>\n",
       "      <td>-0.116054</td>\n",
       "      <td>0.013714</td>\n",
       "      <td>-0.050112</td>\n",
       "      <td>0.057311</td>\n",
       "      <td>-0.003525</td>\n",
       "      <td>0.028691</td>\n",
       "      <td>0.049547</td>\n",
       "      <td>-0.036610</td>\n",
       "      <td>-0.513071</td>\n",
       "    </tr>\n",
       "    <tr>\n",
       "      <th>V19</th>\n",
       "      <td>-0.043072</td>\n",
       "      <td>-0.293286</td>\n",
       "      <td>0.218530</td>\n",
       "      <td>-0.309465</td>\n",
       "      <td>0.294502</td>\n",
       "      <td>-0.376689</td>\n",
       "      <td>-0.207326</td>\n",
       "      <td>-0.336933</td>\n",
       "      <td>0.194553</td>\n",
       "      <td>-0.308566</td>\n",
       "      <td>...</td>\n",
       "      <td>0.118299</td>\n",
       "      <td>0.118200</td>\n",
       "      <td>-0.012742</td>\n",
       "      <td>0.071877</td>\n",
       "      <td>-0.125253</td>\n",
       "      <td>0.053597</td>\n",
       "      <td>0.048378</td>\n",
       "      <td>0.005853</td>\n",
       "      <td>0.124641</td>\n",
       "      <td>0.274661</td>\n",
       "    </tr>\n",
       "    <tr>\n",
       "      <th>V20</th>\n",
       "      <td>-0.043147</td>\n",
       "      <td>-0.244609</td>\n",
       "      <td>0.333059</td>\n",
       "      <td>-0.310662</td>\n",
       "      <td>0.251715</td>\n",
       "      <td>-0.236780</td>\n",
       "      <td>-0.173691</td>\n",
       "      <td>-0.385814</td>\n",
       "      <td>-0.026066</td>\n",
       "      <td>-0.371617</td>\n",
       "      <td>...</td>\n",
       "      <td>-0.443647</td>\n",
       "      <td>0.371194</td>\n",
       "      <td>0.192997</td>\n",
       "      <td>-0.043717</td>\n",
       "      <td>0.029907</td>\n",
       "      <td>0.019093</td>\n",
       "      <td>-0.053111</td>\n",
       "      <td>-0.228700</td>\n",
       "      <td>-0.006732</td>\n",
       "      <td>0.192218</td>\n",
       "    </tr>\n",
       "    <tr>\n",
       "      <th>V21</th>\n",
       "      <td>-0.049362</td>\n",
       "      <td>-0.002064</td>\n",
       "      <td>0.065876</td>\n",
       "      <td>0.002207</td>\n",
       "      <td>0.009099</td>\n",
       "      <td>0.030769</td>\n",
       "      <td>-0.019186</td>\n",
       "      <td>0.013213</td>\n",
       "      <td>-0.095600</td>\n",
       "      <td>0.113613</td>\n",
       "      <td>...</td>\n",
       "      <td>1.000000</td>\n",
       "      <td>-0.666139</td>\n",
       "      <td>0.112004</td>\n",
       "      <td>-0.045829</td>\n",
       "      <td>0.112768</td>\n",
       "      <td>0.031190</td>\n",
       "      <td>0.354664</td>\n",
       "      <td>0.139157</td>\n",
       "      <td>0.028944</td>\n",
       "      <td>0.153121</td>\n",
       "    </tr>\n",
       "    <tr>\n",
       "      <th>V22</th>\n",
       "      <td>0.127913</td>\n",
       "      <td>-0.039550</td>\n",
       "      <td>-0.005832</td>\n",
       "      <td>-0.068161</td>\n",
       "      <td>0.115756</td>\n",
       "      <td>-0.091325</td>\n",
       "      <td>-0.022569</td>\n",
       "      <td>-0.113238</td>\n",
       "      <td>0.030628</td>\n",
       "      <td>-0.206940</td>\n",
       "      <td>...</td>\n",
       "      <td>-0.666139</td>\n",
       "      <td>1.000000</td>\n",
       "      <td>0.014472</td>\n",
       "      <td>0.063244</td>\n",
       "      <td>-0.181062</td>\n",
       "      <td>0.034194</td>\n",
       "      <td>-0.339690</td>\n",
       "      <td>-0.133612</td>\n",
       "      <td>0.018681</td>\n",
       "      <td>0.022070</td>\n",
       "    </tr>\n",
       "    <tr>\n",
       "      <th>V23</th>\n",
       "      <td>0.068490</td>\n",
       "      <td>-0.028617</td>\n",
       "      <td>0.136133</td>\n",
       "      <td>-0.021928</td>\n",
       "      <td>0.005759</td>\n",
       "      <td>-0.033046</td>\n",
       "      <td>0.188502</td>\n",
       "      <td>-0.109284</td>\n",
       "      <td>-0.362151</td>\n",
       "      <td>-0.043797</td>\n",
       "      <td>...</td>\n",
       "      <td>0.112004</td>\n",
       "      <td>0.014472</td>\n",
       "      <td>1.000000</td>\n",
       "      <td>-0.040901</td>\n",
       "      <td>0.050855</td>\n",
       "      <td>0.013829</td>\n",
       "      <td>-0.203421</td>\n",
       "      <td>0.002428</td>\n",
       "      <td>-0.063501</td>\n",
       "      <td>-0.010850</td>\n",
       "    </tr>\n",
       "    <tr>\n",
       "      <th>V24</th>\n",
       "      <td>-0.023021</td>\n",
       "      <td>-0.038513</td>\n",
       "      <td>-0.011287</td>\n",
       "      <td>0.017236</td>\n",
       "      <td>-0.089138</td>\n",
       "      <td>-0.098197</td>\n",
       "      <td>0.040932</td>\n",
       "      <td>-0.008899</td>\n",
       "      <td>0.041589</td>\n",
       "      <td>0.048152</td>\n",
       "      <td>...</td>\n",
       "      <td>-0.045829</td>\n",
       "      <td>0.063244</td>\n",
       "      <td>-0.040901</td>\n",
       "      <td>1.000000</td>\n",
       "      <td>-0.043115</td>\n",
       "      <td>-0.088280</td>\n",
       "      <td>-0.153512</td>\n",
       "      <td>0.013178</td>\n",
       "      <td>0.060070</td>\n",
       "      <td>-0.093495</td>\n",
       "    </tr>\n",
       "    <tr>\n",
       "      <th>V25</th>\n",
       "      <td>-0.211696</td>\n",
       "      <td>-0.061579</td>\n",
       "      <td>0.080387</td>\n",
       "      <td>-0.066602</td>\n",
       "      <td>-0.017944</td>\n",
       "      <td>-0.049212</td>\n",
       "      <td>-0.084836</td>\n",
       "      <td>0.044247</td>\n",
       "      <td>0.207011</td>\n",
       "      <td>-0.004925</td>\n",
       "      <td>...</td>\n",
       "      <td>0.112768</td>\n",
       "      <td>-0.181062</td>\n",
       "      <td>0.050855</td>\n",
       "      <td>-0.043115</td>\n",
       "      <td>1.000000</td>\n",
       "      <td>0.035196</td>\n",
       "      <td>0.145231</td>\n",
       "      <td>0.135422</td>\n",
       "      <td>0.019244</td>\n",
       "      <td>0.012987</td>\n",
       "    </tr>\n",
       "    <tr>\n",
       "      <th>V26</th>\n",
       "      <td>-0.066259</td>\n",
       "      <td>0.038841</td>\n",
       "      <td>-0.009674</td>\n",
       "      <td>-0.002861</td>\n",
       "      <td>0.084651</td>\n",
       "      <td>0.042349</td>\n",
       "      <td>-0.050364</td>\n",
       "      <td>0.015943</td>\n",
       "      <td>0.042834</td>\n",
       "      <td>-0.076721</td>\n",
       "      <td>...</td>\n",
       "      <td>0.031190</td>\n",
       "      <td>0.034194</td>\n",
       "      <td>0.013829</td>\n",
       "      <td>-0.088280</td>\n",
       "      <td>0.035196</td>\n",
       "      <td>1.000000</td>\n",
       "      <td>0.122893</td>\n",
       "      <td>0.007025</td>\n",
       "      <td>-0.059144</td>\n",
       "      <td>0.037255</td>\n",
       "    </tr>\n",
       "    <tr>\n",
       "      <th>V27</th>\n",
       "      <td>-0.113773</td>\n",
       "      <td>0.181304</td>\n",
       "      <td>-0.107909</td>\n",
       "      <td>0.080839</td>\n",
       "      <td>-0.006928</td>\n",
       "      <td>0.159695</td>\n",
       "      <td>-0.128681</td>\n",
       "      <td>0.196622</td>\n",
       "      <td>0.260326</td>\n",
       "      <td>0.087306</td>\n",
       "      <td>...</td>\n",
       "      <td>0.354664</td>\n",
       "      <td>-0.339690</td>\n",
       "      <td>-0.203421</td>\n",
       "      <td>-0.153512</td>\n",
       "      <td>0.145231</td>\n",
       "      <td>0.122893</td>\n",
       "      <td>1.000000</td>\n",
       "      <td>0.036804</td>\n",
       "      <td>0.013820</td>\n",
       "      <td>0.093723</td>\n",
       "    </tr>\n",
       "    <tr>\n",
       "      <th>V28</th>\n",
       "      <td>0.019408</td>\n",
       "      <td>0.026250</td>\n",
       "      <td>-0.067213</td>\n",
       "      <td>0.045816</td>\n",
       "      <td>0.018289</td>\n",
       "      <td>0.059451</td>\n",
       "      <td>0.047663</td>\n",
       "      <td>0.126664</td>\n",
       "      <td>-0.025216</td>\n",
       "      <td>0.134488</td>\n",
       "      <td>...</td>\n",
       "      <td>0.139157</td>\n",
       "      <td>-0.133612</td>\n",
       "      <td>0.002428</td>\n",
       "      <td>0.013178</td>\n",
       "      <td>0.135422</td>\n",
       "      <td>0.007025</td>\n",
       "      <td>0.036804</td>\n",
       "      <td>1.000000</td>\n",
       "      <td>-0.033285</td>\n",
       "      <td>0.056013</td>\n",
       "    </tr>\n",
       "    <tr>\n",
       "      <th>Amount</th>\n",
       "      <td>0.019423</td>\n",
       "      <td>-0.058458</td>\n",
       "      <td>-0.180997</td>\n",
       "      <td>-0.002154</td>\n",
       "      <td>-0.133146</td>\n",
       "      <td>-0.171219</td>\n",
       "      <td>0.122964</td>\n",
       "      <td>0.055125</td>\n",
       "      <td>0.160742</td>\n",
       "      <td>0.067136</td>\n",
       "      <td>...</td>\n",
       "      <td>0.028944</td>\n",
       "      <td>0.018681</td>\n",
       "      <td>-0.063501</td>\n",
       "      <td>0.060070</td>\n",
       "      <td>0.019244</td>\n",
       "      <td>-0.059144</td>\n",
       "      <td>0.013820</td>\n",
       "      <td>-0.033285</td>\n",
       "      <td>1.000000</td>\n",
       "      <td>-0.076602</td>\n",
       "    </tr>\n",
       "    <tr>\n",
       "      <th>Class</th>\n",
       "      <td>-0.106274</td>\n",
       "      <td>-0.482735</td>\n",
       "      <td>0.533501</td>\n",
       "      <td>-0.616162</td>\n",
       "      <td>0.730230</td>\n",
       "      <td>-0.411309</td>\n",
       "      <td>-0.415550</td>\n",
       "      <td>-0.526343</td>\n",
       "      <td>0.068557</td>\n",
       "      <td>-0.581288</td>\n",
       "      <td>...</td>\n",
       "      <td>0.153121</td>\n",
       "      <td>0.022070</td>\n",
       "      <td>-0.010850</td>\n",
       "      <td>-0.093495</td>\n",
       "      <td>0.012987</td>\n",
       "      <td>0.037255</td>\n",
       "      <td>0.093723</td>\n",
       "      <td>0.056013</td>\n",
       "      <td>-0.076602</td>\n",
       "      <td>1.000000</td>\n",
       "    </tr>\n",
       "  </tbody>\n",
       "</table>\n",
       "<p>31 rows × 31 columns</p>\n",
       "</div>"
      ],
      "text/plain": [
       "            Time        V1        V2        V3        V4        V5        V6  \\\n",
       "Time    1.000000  0.203486 -0.190770  0.072984 -0.179992  0.235896  0.058317   \n",
       "V1      0.203486  1.000000 -0.789518  0.853590 -0.606344  0.841252  0.288293   \n",
       "V2     -0.190770 -0.789518  1.000000 -0.839127  0.675193 -0.748838 -0.298536   \n",
       "V3      0.072984  0.853590 -0.839127  1.000000 -0.754981  0.824617  0.417265   \n",
       "V4     -0.179992 -0.606344  0.675193 -0.754981  1.000000 -0.569918 -0.402270   \n",
       "V5      0.235896  0.841252 -0.748838  0.824617 -0.569918  1.000000  0.273624   \n",
       "V6      0.058317  0.288293 -0.298536  0.417265 -0.402270  0.273624  1.000000   \n",
       "V7      0.179761  0.853083 -0.834396  0.873435 -0.692964  0.817139  0.285652   \n",
       "V8     -0.116218 -0.084364 -0.011943 -0.164872  0.102193 -0.190806 -0.481754   \n",
       "V9      0.123151  0.643216 -0.685927  0.737019 -0.730150  0.623384  0.353937   \n",
       "V10     0.177126  0.740501 -0.775068  0.852605 -0.774400  0.737516  0.414081   \n",
       "V11    -0.253646 -0.541115  0.622181 -0.715441  0.770101 -0.531685 -0.471219   \n",
       "V12     0.219474  0.610084 -0.675718  0.768556 -0.816849  0.613343  0.484908   \n",
       "V13    -0.114552 -0.019940  0.001990 -0.043057  0.011001 -0.081770 -0.076757   \n",
       "V14     0.118951  0.480819 -0.587654  0.683339 -0.784473  0.458723  0.508409   \n",
       "V15    -0.180050  0.106239 -0.113226  0.116670 -0.084307  0.071649 -0.015002   \n",
       "V16     0.197484  0.637606 -0.639094  0.729517 -0.715178  0.678225  0.424035   \n",
       "V17     0.188094  0.682588 -0.654579  0.749835 -0.710776  0.738447  0.404829   \n",
       "V18     0.219858  0.668089 -0.619110  0.697594 -0.638924  0.721713  0.350127   \n",
       "V19    -0.043072 -0.293286  0.218530 -0.309465  0.294502 -0.376689 -0.207326   \n",
       "V20    -0.043147 -0.244609  0.333059 -0.310662  0.251715 -0.236780 -0.173691   \n",
       "V21    -0.049362 -0.002064  0.065876  0.002207  0.009099  0.030769 -0.019186   \n",
       "V22     0.127913 -0.039550 -0.005832 -0.068161  0.115756 -0.091325 -0.022569   \n",
       "V23     0.068490 -0.028617  0.136133 -0.021928  0.005759 -0.033046  0.188502   \n",
       "V24    -0.023021 -0.038513 -0.011287  0.017236 -0.089138 -0.098197  0.040932   \n",
       "V25    -0.211696 -0.061579  0.080387 -0.066602 -0.017944 -0.049212 -0.084836   \n",
       "V26    -0.066259  0.038841 -0.009674 -0.002861  0.084651  0.042349 -0.050364   \n",
       "V27    -0.113773  0.181304 -0.107909  0.080839 -0.006928  0.159695 -0.128681   \n",
       "V28     0.019408  0.026250 -0.067213  0.045816  0.018289  0.059451  0.047663   \n",
       "Amount  0.019423 -0.058458 -0.180997 -0.002154 -0.133146 -0.171219  0.122964   \n",
       "Class  -0.106274 -0.482735  0.533501 -0.616162  0.730230 -0.411309 -0.415550   \n",
       "\n",
       "              V7        V8        V9  ...       V21       V22       V23  \\\n",
       "Time    0.179761 -0.116218  0.123151  ... -0.049362  0.127913  0.068490   \n",
       "V1      0.853083 -0.084364  0.643216  ... -0.002064 -0.039550 -0.028617   \n",
       "V2     -0.834396 -0.011943 -0.685927  ...  0.065876 -0.005832  0.136133   \n",
       "V3      0.873435 -0.164872  0.737019  ...  0.002207 -0.068161 -0.021928   \n",
       "V4     -0.692964  0.102193 -0.730150  ...  0.009099  0.115756  0.005759   \n",
       "V5      0.817139 -0.190806  0.623384  ...  0.030769 -0.091325 -0.033046   \n",
       "V6      0.285652 -0.481754  0.353937  ... -0.019186 -0.022569  0.188502   \n",
       "V7      1.000000  0.070259  0.736133  ...  0.013213 -0.113238 -0.109284   \n",
       "V8      0.070259  1.000000 -0.073863  ... -0.095600  0.030628 -0.362151   \n",
       "V9      0.736133 -0.073863  1.000000  ...  0.113613 -0.206940 -0.043797   \n",
       "V10     0.861833 -0.056197  0.800991  ...  0.047163 -0.197154 -0.046207   \n",
       "V11    -0.648207  0.166313 -0.673718  ...  0.160009  0.027263 -0.016707   \n",
       "V12     0.726331 -0.162849  0.743649  ... -0.103206 -0.097971  0.005053   \n",
       "V13    -0.000788  0.223681 -0.012588  ...  0.001535  0.004928 -0.080786   \n",
       "V14     0.573404 -0.183603  0.672460  ... -0.234596  0.044482  0.014486   \n",
       "V15     0.148843  0.117931  0.081099  ...  0.122918 -0.040069 -0.060247   \n",
       "V16     0.751295 -0.172666  0.707835  ... -0.168810 -0.093715 -0.004318   \n",
       "V17     0.777445 -0.217095  0.738999  ... -0.115519 -0.115060  0.013110   \n",
       "V18     0.751736 -0.176820  0.681209  ... -0.101130 -0.116054  0.013714   \n",
       "V19    -0.336933  0.194553 -0.308566  ...  0.118299  0.118200 -0.012742   \n",
       "V20    -0.385814 -0.026066 -0.371617  ... -0.443647  0.371194  0.192997   \n",
       "V21     0.013213 -0.095600  0.113613  ...  1.000000 -0.666139  0.112004   \n",
       "V22    -0.113238  0.030628 -0.206940  ... -0.666139  1.000000  0.014472   \n",
       "V23    -0.109284 -0.362151 -0.043797  ...  0.112004  0.014472  1.000000   \n",
       "V24    -0.008899  0.041589  0.048152  ... -0.045829  0.063244 -0.040901   \n",
       "V25     0.044247  0.207011 -0.004925  ...  0.112768 -0.181062  0.050855   \n",
       "V26     0.015943  0.042834 -0.076721  ...  0.031190  0.034194  0.013829   \n",
       "V27     0.196622  0.260326  0.087306  ...  0.354664 -0.339690 -0.203421   \n",
       "V28     0.126664 -0.025216  0.134488  ...  0.139157 -0.133612  0.002428   \n",
       "Amount  0.055125  0.160742  0.067136  ...  0.028944  0.018681 -0.063501   \n",
       "Class  -0.526343  0.068557 -0.581288  ...  0.153121  0.022070 -0.010850   \n",
       "\n",
       "             V24       V25       V26       V27       V28    Amount     Class  \n",
       "Time   -0.023021 -0.211696 -0.066259 -0.113773  0.019408  0.019423 -0.106274  \n",
       "V1     -0.038513 -0.061579  0.038841  0.181304  0.026250 -0.058458 -0.482735  \n",
       "V2     -0.011287  0.080387 -0.009674 -0.107909 -0.067213 -0.180997  0.533501  \n",
       "V3      0.017236 -0.066602 -0.002861  0.080839  0.045816 -0.002154 -0.616162  \n",
       "V4     -0.089138 -0.017944  0.084651 -0.006928  0.018289 -0.133146  0.730230  \n",
       "V5     -0.098197 -0.049212  0.042349  0.159695  0.059451 -0.171219 -0.411309  \n",
       "V6      0.040932 -0.084836 -0.050364 -0.128681  0.047663  0.122964 -0.415550  \n",
       "V7     -0.008899  0.044247  0.015943  0.196622  0.126664  0.055125 -0.526343  \n",
       "V8      0.041589  0.207011  0.042834  0.260326 -0.025216  0.160742  0.068557  \n",
       "V9      0.048152 -0.004925 -0.076721  0.087306  0.134488  0.067136 -0.581288  \n",
       "V10     0.024061  0.030760 -0.027666  0.109912  0.113181  0.057757 -0.672073  \n",
       "V11    -0.105168  0.011361  0.108918  0.174956  0.029499 -0.099443  0.717677  \n",
       "V12     0.046944  0.029951 -0.087185 -0.043012 -0.004312  0.077346 -0.725092  \n",
       "V13     0.014256  0.008379  0.034444  0.027065 -0.048782  0.059418 -0.064727  \n",
       "V14     0.131998 -0.055673 -0.121557 -0.195108 -0.101162  0.105331 -0.787870  \n",
       "V15     0.046903  0.001954  0.062127  0.124816  0.059851  0.027429 -0.025029  \n",
       "V16    -0.024627  0.054241 -0.045730 -0.045809  0.025589 -0.035340 -0.641519  \n",
       "V17    -0.042630  0.035672 -0.033297 -0.013676  0.022636 -0.035499 -0.614420  \n",
       "V18    -0.050112  0.057311 -0.003525  0.028691  0.049547 -0.036610 -0.513071  \n",
       "V19     0.071877 -0.125253  0.053597  0.048378  0.005853  0.124641  0.274661  \n",
       "V20    -0.043717  0.029907  0.019093 -0.053111 -0.228700 -0.006732  0.192218  \n",
       "V21    -0.045829  0.112768  0.031190  0.354664  0.139157  0.028944  0.153121  \n",
       "V22     0.063244 -0.181062  0.034194 -0.339690 -0.133612  0.018681  0.022070  \n",
       "V23    -0.040901  0.050855  0.013829 -0.203421  0.002428 -0.063501 -0.010850  \n",
       "V24     1.000000 -0.043115 -0.088280 -0.153512  0.013178  0.060070 -0.093495  \n",
       "V25    -0.043115  1.000000  0.035196  0.145231  0.135422  0.019244  0.012987  \n",
       "V26    -0.088280  0.035196  1.000000  0.122893  0.007025 -0.059144  0.037255  \n",
       "V27    -0.153512  0.145231  0.122893  1.000000  0.036804  0.013820  0.093723  \n",
       "V28     0.013178  0.135422  0.007025  0.036804  1.000000 -0.033285  0.056013  \n",
       "Amount  0.060070  0.019244 -0.059144  0.013820 -0.033285  1.000000 -0.076602  \n",
       "Class  -0.093495  0.012987  0.037255  0.093723  0.056013 -0.076602  1.000000  \n",
       "\n",
       "[31 rows x 31 columns]"
      ]
     },
     "execution_count": 19,
     "metadata": {},
     "output_type": "execute_result"
    }
   ],
   "source": [
    "df.corr()"
   ]
  },
  {
   "cell_type": "markdown",
   "metadata": {},
   "source": [
    "# Train-Test Data"
   ]
  },
  {
   "cell_type": "code",
   "execution_count": 20,
   "metadata": {},
   "outputs": [],
   "source": [
    "from sklearn.utils import shuffle"
   ]
  },
  {
   "cell_type": "code",
   "execution_count": 21,
   "metadata": {},
   "outputs": [],
   "source": [
    "df=shuffle(df)"
   ]
  },
  {
   "cell_type": "code",
   "execution_count": 22,
   "metadata": {},
   "outputs": [],
   "source": [
    "X=df.drop('Class',axis=1)"
   ]
  },
  {
   "cell_type": "code",
   "execution_count": 23,
   "metadata": {},
   "outputs": [],
   "source": [
    "y=df['Class']"
   ]
  },
  {
   "cell_type": "code",
   "execution_count": 24,
   "metadata": {},
   "outputs": [],
   "source": [
    "X_train, X_test, y_train, y_test=train_test_split(X,y,test_size=0.25,random_state=200)"
   ]
  },
  {
   "cell_type": "code",
   "execution_count": 25,
   "metadata": {},
   "outputs": [],
   "source": [
    "scaler=StandardScaler()"
   ]
  },
  {
   "cell_type": "code",
   "execution_count": 26,
   "metadata": {},
   "outputs": [],
   "source": [
    "\n",
    "X_train=scaler.fit_transform(X_train)\n",
    "X_test=scaler.transform(X_test)"
   ]
  },
  {
   "cell_type": "code",
   "execution_count": 27,
   "metadata": {},
   "outputs": [],
   "source": [
    "y_train=y_train.to_numpy()\n",
    "y_test=y_test.to_numpy()"
   ]
  },
  {
   "cell_type": "markdown",
   "metadata": {},
   "source": [
    "# Logistic Regression"
   ]
  },
  {
   "cell_type": "code",
   "execution_count": 28,
   "metadata": {},
   "outputs": [],
   "source": [
    "from sklearn.linear_model import LogisticRegression"
   ]
  },
  {
   "cell_type": "code",
   "execution_count": 29,
   "metadata": {},
   "outputs": [],
   "source": [
    "lr=LogisticRegression()"
   ]
  },
  {
   "cell_type": "code",
   "execution_count": 30,
   "metadata": {},
   "outputs": [
    {
     "data": {
      "text/plain": [
       "LogisticRegression(C=1.0, class_weight=None, dual=False, fit_intercept=True,\n",
       "                   intercept_scaling=1, l1_ratio=None, max_iter=100,\n",
       "                   multi_class='auto', n_jobs=None, penalty='l2',\n",
       "                   random_state=None, solver='lbfgs', tol=0.0001, verbose=0,\n",
       "                   warm_start=False)"
      ]
     },
     "execution_count": 30,
     "metadata": {},
     "output_type": "execute_result"
    }
   ],
   "source": [
    "lr.fit(X_train,y_train)"
   ]
  },
  {
   "cell_type": "code",
   "execution_count": 31,
   "metadata": {},
   "outputs": [],
   "source": [
    "predictions=lr.predict(X_test)"
   ]
  },
  {
   "cell_type": "code",
   "execution_count": 32,
   "metadata": {},
   "outputs": [],
   "source": [
    "from sklearn.metrics import classification_report ,confusion_matrix"
   ]
  },
  {
   "cell_type": "code",
   "execution_count": 33,
   "metadata": {},
   "outputs": [
    {
     "name": "stdout",
     "output_type": "stream",
     "text": [
      "[[237  13]\n",
      " [  5 118]]\n"
     ]
    }
   ],
   "source": [
    "print(confusion_matrix(predictions,y_test))\n",
    "#which shows us it works very well"
   ]
  },
  {
   "cell_type": "code",
   "execution_count": 34,
   "metadata": {},
   "outputs": [
    {
     "name": "stdout",
     "output_type": "stream",
     "text": [
      "              precision    recall  f1-score   support\n",
      "\n",
      "           0       0.95      0.98      0.96       242\n",
      "           1       0.96      0.90      0.93       131\n",
      "\n",
      "    accuracy                           0.95       373\n",
      "   macro avg       0.95      0.94      0.95       373\n",
      "weighted avg       0.95      0.95      0.95       373\n",
      "\n"
     ]
    }
   ],
   "source": [
    "print(classification_report(y_test,predictions))"
   ]
  },
  {
   "cell_type": "code",
   "execution_count": 35,
   "metadata": {},
   "outputs": [],
   "source": [
    "from sklearn.metrics import accuracy_score"
   ]
  },
  {
   "cell_type": "code",
   "execution_count": 36,
   "metadata": {},
   "outputs": [
    {
     "name": "stdout",
     "output_type": "stream",
     "text": [
      "0.9517426273458445\n"
     ]
    }
   ],
   "source": [
    "print(accuracy_score(y_test,predictions))"
   ]
  },
  {
   "cell_type": "code",
   "execution_count": 37,
   "metadata": {},
   "outputs": [],
   "source": [
    "#LOgistic Regreesion Model\n",
    "#Precision--95%\n",
    "#F1 Score 95%\n",
    "#Accuracy 95%"
   ]
  },
  {
   "cell_type": "markdown",
   "metadata": {},
   "source": [
    "# KNN"
   ]
  },
  {
   "cell_type": "code",
   "execution_count": 38,
   "metadata": {},
   "outputs": [],
   "source": [
    "from sklearn.neighbors import KNeighborsClassifier"
   ]
  },
  {
   "cell_type": "code",
   "execution_count": 39,
   "metadata": {},
   "outputs": [],
   "source": [
    "l=[]\n",
    "for i in range(1,50):\n",
    "    knn=KNeighborsClassifier(n_neighbors=i)\n",
    "    knn.fit(X_train,y_train)\n",
    "    predictions=knn.predict(X_test)\n",
    "    l.append(accuracy_score(y_test,predictions))\n"
   ]
  },
  {
   "cell_type": "code",
   "execution_count": 40,
   "metadata": {},
   "outputs": [],
   "source": [
    "l.insert(0,0)"
   ]
  },
  {
   "cell_type": "code",
   "execution_count": 41,
   "metadata": {},
   "outputs": [],
   "source": [
    "knn_df=pd.DataFrame(l)"
   ]
  },
  {
   "cell_type": "code",
   "execution_count": 42,
   "metadata": {},
   "outputs": [
    {
     "data": {
      "text/plain": [
       "<matplotlib.axes._subplots.AxesSubplot at 0x1e6e7725c08>"
      ]
     },
     "execution_count": 42,
     "metadata": {},
     "output_type": "execute_result"
    },
    {
     "data": {
      "image/png": "[encoded data removed]",
      "text/plain": [
       "<Figure size 432x288 with 1 Axes>"
      ]
     },
     "metadata": {
      "needs_background": "light"
     },
     "output_type": "display_data"
    }
   ],
   "source": [
    "knn_df[0].plot.line()"
   ]
  },
  {
   "cell_type": "code",
   "execution_count": 43,
   "metadata": {},
   "outputs": [],
   "source": [
    "#highest accuracy is obtained when n_neighbors=15\n",
    "knn=KNeighborsClassifier(n_neighbors=15)\n",
    "knn.fit(X_train,y_train)\n",
    "predictions=knn.predict(X_test)"
   ]
  },
  {
   "cell_type": "code",
   "execution_count": 44,
   "metadata": {},
   "outputs": [],
   "source": [
    "# print(confusion_matrix(predictions,y_test))"
   ]
  },
  {
   "cell_type": "code",
   "execution_count": 45,
   "metadata": {},
   "outputs": [
    {
     "name": "stdout",
     "output_type": "stream",
     "text": [
      "              precision    recall  f1-score   support\n",
      "\n",
      "           0       1.00      0.90      0.94       269\n",
      "           1       0.79      0.99      0.88       104\n",
      "\n",
      "    accuracy                           0.92       373\n",
      "   macro avg       0.89      0.94      0.91       373\n",
      "weighted avg       0.94      0.92      0.92       373\n",
      "\n"
     ]
    }
   ],
   "source": [
    "print(classification_report(predictions,y_test))"
   ]
  },
  {
   "cell_type": "code",
   "execution_count": 46,
   "metadata": {},
   "outputs": [
    {
     "name": "stdout",
     "output_type": "stream",
     "text": [
      "0.9222520107238605\n"
     ]
    }
   ],
   "source": [
    "print(accuracy_score(y_test,predictions))"
   ]
  },
  {
   "cell_type": "code",
   "execution_count": 47,
   "metadata": {},
   "outputs": [],
   "source": [
    "#accuracy=95.17"
   ]
  },
  {
   "cell_type": "markdown",
   "metadata": {},
   "source": [
    "# Random Forest"
   ]
  },
  {
   "cell_type": "code",
   "execution_count": 48,
   "metadata": {},
   "outputs": [],
   "source": [
    "from sklearn.ensemble import RandomForestClassifier"
   ]
  },
  {
   "cell_type": "code",
   "execution_count": 49,
   "metadata": {},
   "outputs": [],
   "source": [
    "\n",
    "rf=RandomForestClassifier(n_estimators=500,max_depth=200)\n"
   ]
  },
  {
   "cell_type": "code",
   "execution_count": 50,
   "metadata": {},
   "outputs": [
    {
     "data": {
      "text/plain": [
       "RandomForestClassifier(bootstrap=True, ccp_alpha=0.0, class_weight=None,\n",
       "                       criterion='gini', max_depth=200, max_features='auto',\n",
       "                       max_leaf_nodes=None, max_samples=None,\n",
       "                       min_impurity_decrease=0.0, min_impurity_split=None,\n",
       "                       min_samples_leaf=1, min_samples_split=2,\n",
       "                       min_weight_fraction_leaf=0.0, n_estimators=500,\n",
       "                       n_jobs=None, oob_score=False, random_state=None,\n",
       "                       verbose=0, warm_start=False)"
      ]
     },
     "execution_count": 50,
     "metadata": {},
     "output_type": "execute_result"
    }
   ],
   "source": [
    "rf.fit(X_train,y_train)"
   ]
  },
  {
   "cell_type": "code",
   "execution_count": 51,
   "metadata": {},
   "outputs": [],
   "source": [
    "predictions=rf.predict(X_test)\n"
   ]
  },
  {
   "cell_type": "code",
   "execution_count": 52,
   "metadata": {},
   "outputs": [
    {
     "name": "stdout",
     "output_type": "stream",
     "text": [
      "              precision    recall  f1-score   support\n",
      "\n",
      "           0       0.94      0.99      0.97       242\n",
      "           1       0.97      0.89      0.93       131\n",
      "\n",
      "    accuracy                           0.95       373\n",
      "   macro avg       0.96      0.94      0.95       373\n",
      "weighted avg       0.96      0.95      0.95       373\n",
      "\n"
     ]
    }
   ],
   "source": [
    "print(classification_report(y_test,predictions))"
   ]
  },
  {
   "cell_type": "code",
   "execution_count": 53,
   "metadata": {},
   "outputs": [
    {
     "name": "stdout",
     "output_type": "stream",
     "text": [
      "[[239   3]\n",
      " [ 14 117]]\n"
     ]
    }
   ],
   "source": [
    "print(confusion_matrix(y_test,predictions))"
   ]
  },
  {
   "cell_type": "code",
   "execution_count": 54,
   "metadata": {},
   "outputs": [
    {
     "name": "stdout",
     "output_type": "stream",
     "text": [
      "0.9544235924932976\n"
     ]
    }
   ],
   "source": [
    "print(accuracy_score(y_test,predictions))"
   ]
  },
  {
   "cell_type": "code",
   "execution_count": 55,
   "metadata": {},
   "outputs": [],
   "source": [
    "#accuracy of 95.7%"
   ]
  },
  {
   "cell_type": "markdown",
   "metadata": {},
   "source": [
    "# SVM Linear Kernel"
   ]
  },
  {
   "cell_type": "code",
   "execution_count": 56,
   "metadata": {},
   "outputs": [],
   "source": [
    "from sklearn.svm import SVC "
   ]
  },
  {
   "cell_type": "code",
   "execution_count": 57,
   "metadata": {},
   "outputs": [],
   "source": [
    "l=SVC(kernel='linear')"
   ]
  },
  {
   "cell_type": "code",
   "execution_count": 58,
   "metadata": {},
   "outputs": [
    {
     "data": {
      "text/plain": [
       "SVC(C=1.0, break_ties=False, cache_size=200, class_weight=None, coef0=0.0,\n",
       "    decision_function_shape='ovr', degree=3, gamma='scale', kernel='linear',\n",
       "    max_iter=-1, probability=False, random_state=None, shrinking=True,\n",
       "    tol=0.001, verbose=False)"
      ]
     },
     "execution_count": 58,
     "metadata": {},
     "output_type": "execute_result"
    }
   ],
   "source": [
    "l.fit(X_train,y_train)"
   ]
  },
  {
   "cell_type": "code",
   "execution_count": 59,
   "metadata": {},
   "outputs": [
    {
     "name": "stdout",
     "output_type": "stream",
     "text": [
      "[[238   4]\n",
      " [ 12 119]]\n"
     ]
    }
   ],
   "source": [
    "predictions=l.predict(X_test)\n",
    "print(confusion_matrix(y_test,predictions))"
   ]
  },
  {
   "cell_type": "code",
   "execution_count": 60,
   "metadata": {},
   "outputs": [
    {
     "name": "stdout",
     "output_type": "stream",
     "text": [
      "              precision    recall  f1-score   support\n",
      "\n",
      "           0       0.95      0.98      0.97       242\n",
      "           1       0.97      0.91      0.94       131\n",
      "\n",
      "    accuracy                           0.96       373\n",
      "   macro avg       0.96      0.95      0.95       373\n",
      "weighted avg       0.96      0.96      0.96       373\n",
      "\n"
     ]
    }
   ],
   "source": [
    "print(classification_report(y_test,predictions))"
   ]
  },
  {
   "cell_type": "code",
   "execution_count": 61,
   "metadata": {},
   "outputs": [
    {
     "name": "stdout",
     "output_type": "stream",
     "text": [
      "0.9571045576407506\n"
     ]
    }
   ],
   "source": [
    "print(accuracy_score(y_test,predictions))"
   ]
  },
  {
   "cell_type": "markdown",
   "metadata": {},
   "source": [
    "# SVM Gaussian rbf Kernel"
   ]
  },
  {
   "cell_type": "code",
   "execution_count": 62,
   "metadata": {},
   "outputs": [],
   "source": [
    "l=SVC(kernel='rbf')"
   ]
  },
  {
   "cell_type": "code",
   "execution_count": 63,
   "metadata": {},
   "outputs": [
    {
     "data": {
      "text/plain": [
       "SVC(C=1.0, break_ties=False, cache_size=200, class_weight=None, coef0=0.0,\n",
       "    decision_function_shape='ovr', degree=3, gamma='scale', kernel='rbf',\n",
       "    max_iter=-1, probability=False, random_state=None, shrinking=True,\n",
       "    tol=0.001, verbose=False)"
      ]
     },
     "execution_count": 63,
     "metadata": {},
     "output_type": "execute_result"
    }
   ],
   "source": [
    "l.fit(X_train,y_train)"
   ]
  },
  {
   "cell_type": "code",
   "execution_count": 64,
   "metadata": {},
   "outputs": [
    {
     "name": "stdout",
     "output_type": "stream",
     "text": [
      "[[241   1]\n",
      " [ 17 114]]\n"
     ]
    }
   ],
   "source": [
    "predictions=l.predict(X_test)\n",
    "print(confusion_matrix(y_test,predictions))"
   ]
  },
  {
   "cell_type": "code",
   "execution_count": 65,
   "metadata": {},
   "outputs": [
    {
     "name": "stdout",
     "output_type": "stream",
     "text": [
      "              precision    recall  f1-score   support\n",
      "\n",
      "           0       0.93      1.00      0.96       242\n",
      "           1       0.99      0.87      0.93       131\n",
      "\n",
      "    accuracy                           0.95       373\n",
      "   macro avg       0.96      0.93      0.95       373\n",
      "weighted avg       0.95      0.95      0.95       373\n",
      "\n"
     ]
    }
   ],
   "source": [
    "print(classification_report(y_test,predictions))"
   ]
  },
  {
   "cell_type": "code",
   "execution_count": 66,
   "metadata": {},
   "outputs": [
    {
     "name": "stdout",
     "output_type": "stream",
     "text": [
      "0.9517426273458445\n"
     ]
    }
   ],
   "source": [
    "print(accuracy_score(y_test,predictions))"
   ]
  },
  {
   "cell_type": "markdown",
   "metadata": {},
   "source": [
    "# Naive Bayes"
   ]
  },
  {
   "cell_type": "code",
   "execution_count": 67,
   "metadata": {},
   "outputs": [],
   "source": [
    "from sklearn import naive_bayes"
   ]
  },
  {
   "cell_type": "code",
   "execution_count": 68,
   "metadata": {},
   "outputs": [],
   "source": [
    "NB=naive_bayes.GaussianNB()"
   ]
  },
  {
   "cell_type": "code",
   "execution_count": 69,
   "metadata": {},
   "outputs": [
    {
     "data": {
      "text/plain": [
       "GaussianNB(priors=None, var_smoothing=1e-09)"
      ]
     },
     "execution_count": 69,
     "metadata": {},
     "output_type": "execute_result"
    }
   ],
   "source": [
    "NB.fit(X_train,y_train)"
   ]
  },
  {
   "cell_type": "code",
   "execution_count": 70,
   "metadata": {},
   "outputs": [],
   "source": [
    "predictions=NB.predict(X_test)"
   ]
  },
  {
   "cell_type": "code",
   "execution_count": 71,
   "metadata": {},
   "outputs": [
    {
     "name": "stdout",
     "output_type": "stream",
     "text": [
      "0.9490616621983914\n"
     ]
    }
   ],
   "source": [
    "print(accuracy_score(y_test,predictions))"
   ]
  },
  {
   "cell_type": "code",
   "execution_count": 72,
   "metadata": {},
   "outputs": [
    {
     "name": "stdout",
     "output_type": "stream",
     "text": [
      "              precision    recall  f1-score   support\n",
      "\n",
      "           0       0.93      0.99      0.96       242\n",
      "           1       0.98      0.87      0.92       131\n",
      "\n",
      "    accuracy                           0.95       373\n",
      "   macro avg       0.96      0.93      0.94       373\n",
      "weighted avg       0.95      0.95      0.95       373\n",
      "\n"
     ]
    }
   ],
   "source": [
    "print(classification_report(y_test,predictions))"
   ]
  },
  {
   "cell_type": "code",
   "execution_count": 73,
   "metadata": {},
   "outputs": [
    {
     "name": "stdout",
     "output_type": "stream",
     "text": [
      "[[240   2]\n",
      " [ 17 114]]\n"
     ]
    }
   ],
   "source": [
    "\n",
    "print(confusion_matrix(y_test,predictions))"
   ]
  },
  {
   "cell_type": "markdown",
   "metadata": {},
   "source": [
    "# Neural Network"
   ]
  },
  {
   "cell_type": "code",
   "execution_count": 76,
   "metadata": {},
   "outputs": [],
   "source": [
    "from tensorflow.keras.regularizers import l2"
   ]
  },
  {
   "cell_type": "code",
   "execution_count": 77,
   "metadata": {},
   "outputs": [
    {
     "name": "stdout",
     "output_type": "stream",
     "text": [
      "WARNING:tensorflow:From C:\\Users\\91938\\anaconda3\\lib\\site-packages\\tensorflow\\python\\ops\\init_ops.py:1251: calling VarianceScaling.__init__ (from tensorflow.python.ops.init_ops) with dtype is deprecated and will be removed in a future version.\n",
      "Instructions for updating:\n",
      "Call initializer instance with the dtype argument instead of passing it to the constructor\n"
     ]
    }
   ],
   "source": [
    "model = Sequential()\n",
    "model.add(Dense(16, input_dim=30,kernel_regularizer=l2(0.01), activation='relu'))\n",
    "model.add(Dense(32, kernel_regularizer=l2(0.01),activation='relu'))\n",
    "model.add(Dense(48, kernel_regularizer=l2(0.01),activation='relu'))\n",
    "# model.add(Dense(64, kernel_regularizer=l2(0.01),activation='relu',))\n",
    "# model.add(Dense(128, kernel_regularizer=l2(0.01),activation='relu',))\n",
    "model.add(Dropout(0.4))\n",
    "model.add(Dense(1, activation='sigmoid'))\n"
   ]
  },
  {
   "cell_type": "code",
   "execution_count": 78,
   "metadata": {},
   "outputs": [
    {
     "name": "stdout",
     "output_type": "stream",
     "text": [
      "WARNING:tensorflow:From C:\\Users\\91938\\anaconda3\\lib\\site-packages\\tensorflow\\python\\ops\\nn_impl.py:180: add_dispatch_support.<locals>.wrapper (from tensorflow.python.ops.array_ops) is deprecated and will be removed in a future version.\n",
      "Instructions for updating:\n",
      "Use tf.where in 2.0, which has the same broadcast rule as np.where\n"
     ]
    }
   ],
   "source": [
    "model.compile(loss='binary_crossentropy', optimizer='adam', metrics=['accuracy'])"
   ]
  },
  {
   "cell_type": "code",
   "execution_count": 130,
   "metadata": {},
   "outputs": [
    {
     "name": "stdout",
     "output_type": "stream",
     "text": [
      "Train on 1119 samples, validate on 373 samples\n",
      "Epoch 1/20\n",
      "1119/1119 [==============================] - 0s 94us/sample - loss: 0.1048 - acc: 0.9866 - val_loss: 0.2259 - val_acc: 0.9517\n",
      "Epoch 2/20\n",
      "1119/1119 [==============================] - 0s 87us/sample - loss: 0.1023 - acc: 0.9830 - val_loss: 0.2225 - val_acc: 0.9491\n",
      "Epoch 3/20\n",
      "1119/1119 [==============================] - 0s 86us/sample - loss: 0.0962 - acc: 0.9821 - val_loss: 0.2360 - val_acc: 0.9491\n",
      "Epoch 4/20\n",
      "1119/1119 [==============================] - 0s 86us/sample - loss: 0.0947 - acc: 0.9857 - val_loss: 0.2370 - val_acc: 0.9517\n",
      "Epoch 5/20\n",
      "1119/1119 [==============================] - 0s 86us/sample - loss: 0.0949 - acc: 0.9884 - val_loss: 0.2366 - val_acc: 0.9437\n",
      "Epoch 6/20\n",
      "1119/1119 [==============================] - 0s 85us/sample - loss: 0.0946 - acc: 0.9866 - val_loss: 0.2328 - val_acc: 0.9464\n",
      "Epoch 7/20\n",
      "1119/1119 [==============================] - 0s 88us/sample - loss: 0.0984 - acc: 0.9839 - val_loss: 0.2314 - val_acc: 0.9517\n",
      "Epoch 8/20\n",
      "1119/1119 [==============================] - 0s 92us/sample - loss: 0.0952 - acc: 0.9884 - val_loss: 0.2319 - val_acc: 0.9491\n",
      "Epoch 9/20\n",
      "1119/1119 [==============================] - 0s 87us/sample - loss: 0.0969 - acc: 0.9848 - val_loss: 0.2399 - val_acc: 0.9464\n",
      "Epoch 10/20\n",
      "1119/1119 [==============================] - 0s 85us/sample - loss: 0.1006 - acc: 0.9866 - val_loss: 0.2291 - val_acc: 0.9464\n",
      "Epoch 11/20\n",
      "1119/1119 [==============================] - 0s 86us/sample - loss: 0.0975 - acc: 0.9875 - val_loss: 0.2339 - val_acc: 0.9464\n",
      "Epoch 12/20\n",
      "1119/1119 [==============================] - 0s 89us/sample - loss: 0.1084 - acc: 0.9803 - val_loss: 0.2582 - val_acc: 0.9437\n",
      "Epoch 13/20\n",
      "1119/1119 [==============================] - 0s 100us/sample - loss: 0.1053 - acc: 0.9812 - val_loss: 0.2262 - val_acc: 0.9491\n",
      "Epoch 14/20\n",
      "1119/1119 [==============================] - 0s 87us/sample - loss: 0.0953 - acc: 0.9884 - val_loss: 0.2443 - val_acc: 0.9464\n",
      "Epoch 15/20\n",
      "1119/1119 [==============================] - 0s 87us/sample - loss: 0.1039 - acc: 0.9839 - val_loss: 0.2294 - val_acc: 0.9464\n",
      "Epoch 16/20\n",
      "1119/1119 [==============================] - 0s 89us/sample - loss: 0.0974 - acc: 0.9839 - val_loss: 0.2324 - val_acc: 0.9464\n",
      "Epoch 17/20\n",
      "1119/1119 [==============================] - 0s 90us/sample - loss: 0.0943 - acc: 0.9893 - val_loss: 0.2207 - val_acc: 0.9464\n",
      "Epoch 18/20\n",
      "1119/1119 [==============================] - 0s 91us/sample - loss: 0.0971 - acc: 0.9812 - val_loss: 0.2393 - val_acc: 0.9517\n",
      "Epoch 19/20\n",
      "1119/1119 [==============================] - 0s 85us/sample - loss: 0.0882 - acc: 0.9929 - val_loss: 0.2439 - val_acc: 0.9437\n",
      "Epoch 20/20\n",
      "1119/1119 [==============================] - 0s 85us/sample - loss: 0.0882 - acc: 0.9920 - val_loss: 0.2340 - val_acc: 0.9464\n"
     ]
    }
   ],
   "source": [
    "from tensorflow.keras.callbacks import ModelCheckpoint\n",
    "checkpointer=ModelCheckpoint(filepath='Convolutional.hdf5',verbose=1,save_best_only=True)\n",
    "history = model.fit(x=X_train,y= y_train, epochs=20, batch_size=16,validation_data=(X_test,y_test))"
   ]
  },
  {
   "cell_type": "code",
   "execution_count": 131,
   "metadata": {},
   "outputs": [],
   "source": [
    "\n",
    "#accuracy of 95.7%"
   ]
  },
  {
   "cell_type": "code",
   "execution_count": 132,
   "metadata": {},
   "outputs": [
    {
     "name": "stdout",
     "output_type": "stream",
     "text": [
      "373/373 [==============================] - 0s 51us/sample - loss: 0.2340 - acc: 0.9464\n",
      "Test accuracy is 94.6381%\n"
     ]
    }
   ],
   "source": [
    "score=model.evaluate(X_test,y_test,verbose=1)               #evaluates the model\n",
    "accuracy=100*score[1]                                       \n",
    "print('Test accuracy is %.4f%%' % accuracy)"
   ]
  },
  {
   "cell_type": "code",
   "execution_count": 133,
   "metadata": {},
   "outputs": [
    {
     "name": "stdout",
     "output_type": "stream",
     "text": [
      "1119/1119 [==============================] - 0s 26us/sample - loss: 0.0847 - acc: 0.9875\n",
      "Test accuracy is 98.7489%\n"
     ]
    }
   ],
   "source": [
    "score=model.evaluate(X_train,y_train,verbose=1)               #evaluates the model\n",
    "accuracy=100*score[1]                                       \n",
    "print('Test accuracy is %.4f%%' % accuracy)"
   ]
  },
  {
   "cell_type": "code",
   "execution_count": 134,
   "metadata": {},
   "outputs": [
    {
     "data": {
      "text/plain": [
       "<matplotlib.legend.Legend at 0x1e6ebee6cc8>"
      ]
     },
     "execution_count": 134,
     "metadata": {},
     "output_type": "execute_result"
    },
    {
     "data": {
      "image/png": "[encoded data removed]",
      "text/plain": [
       "<Figure size 432x288 with 1 Axes>"
      ]
     },
     "metadata": {
      "needs_background": "light"
     },
     "output_type": "display_data"
    }
   ],
   "source": [
    "\n",
    "plt.plot(history.history['acc'])\n",
    "plt.plot(history.history['val_acc'])\n",
    "plt.xlabel('epochs')\n",
    "plt.ylabel('accuracy')\n",
    "plt.legend(['train','test'],loc='lower left')"
   ]
  },
  {
   "cell_type": "code",
   "execution_count": 135,
   "metadata": {},
   "outputs": [
    {
     "data": {
      "text/plain": [
       "<matplotlib.legend.Legend at 0x1e6ebf5f4c8>"
      ]
     },
     "execution_count": 135,
     "metadata": {},
     "output_type": "execute_result"
    },
    {
     "data": {
      "image/png": "[encoded data removed]",
      "text/plain": [
       "<Figure size 432x288 with 1 Axes>"
      ]
     },
     "metadata": {
      "needs_background": "light"
     },
     "output_type": "display_data"
    }
   ],
   "source": [
    "\n",
    "plt.plot(history.history['loss'])\n",
    "plt.plot(history.history['val_loss'])\n",
    "plt.xlabel('epochs')\n",
    "plt.ylabel('loss')\n",
    "plt.legend(['train','test'],loc='lower left')"
   ]
  },
  {
   "cell_type": "code",
   "execution_count": null,
   "metadata": {},
   "outputs": [],
   "source": []
  }
 ],
 "metadata": {
  "kernelspec": {
   "display_name": "Python 3",
   "language": "python",
   "name": "python3"
  },
  "language_info": {
   "codemirror_mode": {
    "name": "ipython",
    "version": 3
   },
   "file_extension": ".py",
   "mimetype": "text/x-python",
   "name": "python",
   "nbconvert_exporter": "python",
   "pygments_lexer": "ipython3",
   "version": "3.7.6"
  }
 },
 "nbformat": 4,
 "nbformat_minor": 4
}
